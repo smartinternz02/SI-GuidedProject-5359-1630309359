{
 "cells": [
  {
   "cell_type": "code",
   "execution_count": 1,
   "metadata": {},
   "outputs": [
    {
     "name": "stderr",
     "output_type": "stream",
     "text": [
      "Using TensorFlow backend.\n"
     ]
    }
   ],
   "source": [
    "import keras"
   ]
  },
  {
   "cell_type": "code",
   "execution_count": 2,
   "metadata": {},
   "outputs": [],
   "source": [
    "from keras.preprocessing.image import ImageDataGenerator"
   ]
  },
  {
   "cell_type": "code",
   "execution_count": 3,
   "metadata": {},
   "outputs": [],
   "source": [
    "\n",
    "train_datagen=ImageDataGenerator(rescale=1./255,shear_range=0.2,rotation_range=180,zoom_range=0.2,horizontal_flip=True)\n"
   ]
  },
  {
   "cell_type": "code",
   "execution_count": 4,
   "metadata": {},
   "outputs": [],
   "source": [
    "test_datagen=ImageDataGenerator(rescale=1./255)\n",
    "\n"
   ]
  },
  {
   "cell_type": "code",
   "execution_count": 5,
   "metadata": {},
   "outputs": [
    {
     "name": "stdout",
     "output_type": "stream",
     "text": [
      "Found 447 images belonging to 2 classes.\n"
     ]
    }
   ],
   "source": [
    "x_train=train_datagen.flow_from_directory(r\"C:\\Users\\utkar\\Desktop\\Externship Project IBM\\train_set\",target_size=(128,128),\n",
    "                                        batch_size=32,class_mode='binary')\n",
    "                                        \n",
    "                                       "
   ]
  },
  {
   "cell_type": "code",
   "execution_count": 6,
   "metadata": {},
   "outputs": [
    {
     "name": "stdout",
     "output_type": "stream",
     "text": [
      "Found 121 images belonging to 2 classes.\n"
     ]
    }
   ],
   "source": [
    "\n",
    "\n",
    "x_test=test_datagen.flow_from_directory(r\"C:\\Users\\utkar\\Desktop\\Externship Project IBM\\test_set\",target_size=(128,128),\n",
    "                                        batch_size=32,class_mode='binary')\n",
    "                                        "
   ]
  },
  {
   "cell_type": "code",
   "execution_count": 7,
   "metadata": {},
   "outputs": [],
   "source": [
    "\n",
    "from keras.models import Sequential"
   ]
  },
  {
   "cell_type": "code",
   "execution_count": 8,
   "metadata": {},
   "outputs": [],
   "source": [
    "\n",
    "\n",
    "from keras.layers import Dense"
   ]
  },
  {
   "cell_type": "code",
   "execution_count": 9,
   "metadata": {},
   "outputs": [],
   "source": [
    "from keras.layers import Convolution2D\n"
   ]
  },
  {
   "cell_type": "code",
   "execution_count": 10,
   "metadata": {},
   "outputs": [],
   "source": [
    "from keras.layers import MaxPooling2D"
   ]
  },
  {
   "cell_type": "code",
   "execution_count": 11,
   "metadata": {},
   "outputs": [],
   "source": [
    "from keras.layers import Flatten"
   ]
  },
  {
   "cell_type": "code",
   "execution_count": 12,
   "metadata": {},
   "outputs": [],
   "source": [
    "model=Sequential()"
   ]
  },
  {
   "cell_type": "markdown",
   "metadata": {},
   "source": [
    "model.add(Convolution2D(32,(3,3),input_size=128,128,3),activation='relu'))"
   ]
  },
  {
   "cell_type": "code",
   "execution_count": 13,
   "metadata": {},
   "outputs": [],
   "source": [
    "model.add(Convolution2D(32,(3,3),input_shape=(128,128,3),activation='relu'))"
   ]
  },
  {
   "cell_type": "code",
   "execution_count": 14,
   "metadata": {},
   "outputs": [
    {
     "name": "stdout",
     "output_type": "stream",
     "text": [
      "WARNING:tensorflow:From C:\\Users\\utkar\\Anaconda3\\lib\\site-packages\\keras\\backend\\tensorflow_backend.py:4070: The name tf.nn.max_pool is deprecated. Please use tf.nn.max_pool2d instead.\n",
      "\n"
     ]
    }
   ],
   "source": [
    "model.add(MaxPooling2D(pool_size=(2,2)))"
   ]
  },
  {
   "cell_type": "code",
   "execution_count": 15,
   "metadata": {},
   "outputs": [],
   "source": [
    "model.add(Flatten())"
   ]
  },
  {
   "cell_type": "code",
   "execution_count": 16,
   "metadata": {},
   "outputs": [
    {
     "name": "stderr",
     "output_type": "stream",
     "text": [
      "C:\\Users\\utkar\\Anaconda3\\lib\\site-packages\\ipykernel_launcher.py:1: UserWarning: Update your `Dense` call to the Keras 2 API: `Dense(activation=\"relu\", units=150, kernel_initializer=\"uniform\")`\n",
      "  \"\"\"Entry point for launching an IPython kernel.\n"
     ]
    }
   ],
   "source": [
    "model.add(Dense(output_dim=150,init='uniform',activation='relu'))"
   ]
  },
  {
   "cell_type": "code",
   "execution_count": 17,
   "metadata": {},
   "outputs": [
    {
     "name": "stderr",
     "output_type": "stream",
     "text": [
      "C:\\Users\\utkar\\Anaconda3\\lib\\site-packages\\ipykernel_launcher.py:1: UserWarning: Update your `Dense` call to the Keras 2 API: `Dense(activation=\"sigmoid\", units=1, kernel_initializer=\"uniform\")`\n",
      "  \"\"\"Entry point for launching an IPython kernel.\n"
     ]
    }
   ],
   "source": [
    "model.add(Dense(output_dim=1,activation='sigmoid',init='uniform'))"
   ]
  },
  {
   "cell_type": "code",
   "execution_count": 18,
   "metadata": {},
   "outputs": [
    {
     "name": "stdout",
     "output_type": "stream",
     "text": [
      "WARNING:tensorflow:From C:\\Users\\utkar\\Anaconda3\\lib\\site-packages\\tensorflow\\python\\ops\\nn_impl.py:180: add_dispatch_support.<locals>.wrapper (from tensorflow.python.ops.array_ops) is deprecated and will be removed in a future version.\n",
      "Instructions for updating:\n",
      "Use tf.where in 2.0, which has the same broadcast rule as np.where\n"
     ]
    }
   ],
   "source": [
    "model.compile(loss='binary_crossentropy',optimizer='adam',metrics= [\"accuracy\"])"
   ]
  },
  {
   "cell_type": "code",
   "execution_count": 19,
   "metadata": {},
   "outputs": [
    {
     "name": "stdout",
     "output_type": "stream",
     "text": [
      "WARNING:tensorflow:From C:\\Users\\utkar\\Anaconda3\\lib\\site-packages\\keras\\backend\\tensorflow_backend.py:422: The name tf.global_variables is deprecated. Please use tf.compat.v1.global_variables instead.\n",
      "\n",
      "Epoch 1/25\n",
      "15/15 [==============================] - 47s 3s/step - loss: 0.5567 - accuracy: 0.7808 - val_loss: 0.1410 - val_accuracy: 0.9150\n",
      "Epoch 2/25\n",
      "15/15 [==============================] - 44s 3s/step - loss: 0.2329 - accuracy: 0.8914 - val_loss: 0.1906 - val_accuracy: 0.9477\n",
      "Epoch 3/25\n",
      "15/15 [==============================] - 42s 3s/step - loss: 0.1885 - accuracy: 0.9247 - val_loss: 0.1965 - val_accuracy: 0.9608\n",
      "Epoch 4/25\n",
      "15/15 [==============================] - 41s 3s/step - loss: 0.2022 - accuracy: 0.9187 - val_loss: 0.0352 - val_accuracy: 0.9315\n",
      "Epoch 5/25\n",
      "15/15 [==============================] - 33s 2s/step - loss: 0.1579 - accuracy: 0.9499 - val_loss: 0.1707 - val_accuracy: 0.9542\n",
      "Epoch 6/25\n",
      "15/15 [==============================] - 44s 3s/step - loss: 0.1971 - accuracy: 0.9123 - val_loss: 0.1623 - val_accuracy: 0.9281\n",
      "Epoch 7/25\n",
      "15/15 [==============================] - 41s 3s/step - loss: 0.1977 - accuracy: 0.9102 - val_loss: 0.0103 - val_accuracy: 0.9804\n",
      "Epoch 8/25\n",
      "15/15 [==============================] - 50s 3s/step - loss: 0.1620 - accuracy: 0.9289 - val_loss: 0.1089 - val_accuracy: 0.9726\n",
      "Epoch 9/25\n",
      "15/15 [==============================] - 29s 2s/step - loss: 0.1850 - accuracy: 0.9167 - val_loss: 0.0067 - val_accuracy: 0.9869\n",
      "Epoch 10/25\n",
      "15/15 [==============================] - 42s 3s/step - loss: 0.1560 - accuracy: 0.9332 - val_loss: 0.0764 - val_accuracy: 0.9869\n",
      "Epoch 11/25\n",
      "15/15 [==============================] - 34s 2s/step - loss: 0.1451 - accuracy: 0.9372 - val_loss: 0.0432 - val_accuracy: 0.9739\n",
      "Epoch 12/25\n",
      "15/15 [==============================] - 18s 1s/step - loss: 0.1780 - accuracy: 0.9081 - val_loss: 0.0261 - val_accuracy: 0.9795\n",
      "Epoch 13/25\n",
      "15/15 [==============================] - 17s 1s/step - loss: 0.2183 - accuracy: 0.9061 - val_loss: 0.0842 - val_accuracy: 0.9673\n",
      "Epoch 14/25\n",
      "15/15 [==============================] - 16s 1s/step - loss: 0.1560 - accuracy: 0.9457 - val_loss: 0.0646 - val_accuracy: 1.0000\n",
      "Epoch 15/25\n",
      "15/15 [==============================] - 17s 1s/step - loss: 0.1500 - accuracy: 0.9269 - val_loss: 0.0633 - val_accuracy: 0.9869\n",
      "Epoch 16/25\n",
      "15/15 [==============================] - 17s 1s/step - loss: 0.1250 - accuracy: 0.9478 - val_loss: 0.0481 - val_accuracy: 1.0000\n",
      "Epoch 17/25\n",
      "15/15 [==============================] - 15s 1s/step - loss: 0.1505 - accuracy: 0.9289 - val_loss: 0.0503 - val_accuracy: 1.0000\n",
      "Epoch 18/25\n",
      "15/15 [==============================] - 19s 1s/step - loss: 0.1411 - accuracy: 0.9353 - val_loss: 0.0452 - val_accuracy: 1.0000\n",
      "Epoch 19/25\n",
      "15/15 [==============================] - 18s 1s/step - loss: 0.1319 - accuracy: 0.9479 - val_loss: 0.0182 - val_accuracy: 0.9869\n",
      "Epoch 20/25\n",
      "15/15 [==============================] - 17s 1s/step - loss: 0.1420 - accuracy: 0.9478 - val_loss: 0.0947 - val_accuracy: 0.9863\n",
      "Epoch 21/25\n",
      "15/15 [==============================] - 13s 884ms/step - loss: 0.1199 - accuracy: 0.9562 - val_loss: 0.0303 - val_accuracy: 1.0000\n",
      "Epoch 22/25\n",
      "15/15 [==============================] - 19s 1s/step - loss: 0.1259 - accuracy: 0.9457 - val_loss: 0.0432 - val_accuracy: 0.9804\n",
      "Epoch 23/25\n",
      "15/15 [==============================] - 16s 1s/step - loss: 0.1492 - accuracy: 0.9393 - val_loss: 0.0481 - val_accuracy: 0.9935\n",
      "Epoch 24/25\n",
      "15/15 [==============================] - 17s 1s/step - loss: 0.1092 - accuracy: 0.9582 - val_loss: 0.0200 - val_accuracy: 1.0000\n",
      "Epoch 25/25\n",
      "15/15 [==============================] - 14s 933ms/step - loss: 0.1596 - accuracy: 0.9207 - val_loss: 0.0246 - val_accuracy: 0.9739\n"
     ]
    },
    {
     "data": {
      "text/plain": [
       "<keras.callbacks.callbacks.History at 0x20cd2dd2d68>"
      ]
     },
     "execution_count": 19,
     "metadata": {},
     "output_type": "execute_result"
    }
   ],
   "source": [
    "model.fit_generator(x_train,steps_per_epoch=15,epochs=25,validation_data=x_test,validation_steps=5)"
   ]
  },
  {
   "cell_type": "code",
   "execution_count": 20,
   "metadata": {},
   "outputs": [],
   "source": [
    "model.save('ForestFire.h5')"
   ]
  },
  {
   "cell_type": "code",
   "execution_count": null,
   "metadata": {},
   "outputs": [],
   "source": []
  }
 ],
 "metadata": {
  "kernelspec": {
   "display_name": "Python 3",
   "language": "python",
   "name": "python3"
  },
  "language_info": {
   "codemirror_mode": {
    "name": "ipython",
    "version": 3
   },
   "file_extension": ".py",
   "mimetype": "text/x-python",
   "name": "python",
   "nbconvert_exporter": "python",
   "pygments_lexer": "ipython3",
   "version": "3.7.3"
  }
 },
 "nbformat": 4,
 "nbformat_minor": 2
}
